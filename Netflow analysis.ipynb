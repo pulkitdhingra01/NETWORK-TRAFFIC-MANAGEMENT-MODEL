{
 "cells": [
  {
   "cell_type": "code",
   "execution_count": 1,
   "metadata": {},
   "outputs": [],
   "source": [
    "import numpy as np\n",
    "import pandas as pd\n",
    "import math\n",
    "import matplotlib.pyplot as plt\n",
    "import statsmodels.api as sm\n",
    "from datetime import datetime\n",
    "\n",
    "\n",
    "path=r\"C:\\Users\\praya\\Documents\\Project STPI\\Netflow Data_formulae.csv\"\n",
    "data=pd.read_csv(path,parse_dates=[0],infer_datetime_format= True, dayfirst=True,)"
   ]
  },
  {
   "cell_type": "code",
   "execution_count": 2,
   "metadata": {},
   "outputs": [],
   "source": [
    "def counting(dataframe,column):\n",
    "    n=dataframe[column].count()\n",
    "    j=[]\n",
    "    for i in range(0,n):\n",
    "        if len(dataframe[column][i]) == 4:\n",
    "            j.append(len(dataframe[column][i])//4)\n",
    "        else:\n",
    "            j.append(len(dataframe[column][i]))\n",
    "        \n",
    "    dataframe.insert(1,\"VALUE COUNT\",j)"
   ]
  },
  {
   "cell_type": "code",
   "execution_count": 3,
   "metadata": {},
   "outputs": [
    {
     "name": "stdout",
     "output_type": "stream",
     "text": [
      "(10001, 6)\n"
     ]
    }
   ],
   "source": [
    "print(data.shape)"
   ]
  },
  {
   "cell_type": "code",
   "execution_count": 4,
   "metadata": {},
   "outputs": [],
   "source": [
    "nan_value=float(\"NaN\")\n",
    "data.replace(\" \",nan_value , inplace=True)\n",
    "data.dropna(subset=[\"Unnamed: 4\"],inplace=True)"
   ]
  },
  {
   "cell_type": "code",
   "execution_count": 5,
   "metadata": {},
   "outputs": [
    {
     "data": {
      "text/plain": [
       "(9432, 6)"
      ]
     },
     "execution_count": 5,
     "metadata": {},
     "output_type": "execute_result"
    }
   ],
   "source": [
    "data.shape"
   ]
  },
  {
   "cell_type": "code",
   "execution_count": 6,
   "metadata": {},
   "outputs": [],
   "source": [
    "df=data.rename(columns={\"Unnamed: 1\":\"Time Stamps\",\"Unnamed: 2\":\"Source ip\",\"Unnamed: 3\":\"D Address\",\"Unnamed: 4\":\"SP Address\",\"Unnamed: 5\":\"DP Address\",\"###Traffic Detail###\":\"Traffic Detail(ID)\"})"
   ]
  },
  {
   "cell_type": "code",
   "execution_count": 7,
   "metadata": {},
   "outputs": [],
   "source": [
    "df['Date']=df['Time Stamps']\n",
    "df[['Date','Time']]=df.Date.str.split(expand=True)\n"
   ]
  },
  {
   "cell_type": "code",
   "execution_count": 10,
   "metadata": {},
   "outputs": [],
   "source": [
    "df['Date'] = pd.to_datetime(df['Date'], errors='coerce')\n",
    "df['Date'] = df['Date'].dt.strftime('%m-%d-%y')\n"
   ]
  },
  {
   "cell_type": "code",
   "execution_count": 11,
   "metadata": {},
   "outputs": [],
   "source": [
    "df=df.sort_values(by='Date')"
   ]
  },
  {
   "cell_type": "code",
   "execution_count": 12,
   "metadata": {},
   "outputs": [],
   "source": [
    "df.reset_index(inplace=True)"
   ]
  },
  {
   "cell_type": "code",
   "execution_count": 13,
   "metadata": {
    "scrolled": false
   },
   "outputs": [],
   "source": [
    "df.drop(['index'],inplace=True,axis=1)"
   ]
  },
  {
   "cell_type": "code",
   "execution_count": 14,
   "metadata": {},
   "outputs": [],
   "source": [
    "df=df[:-1]"
   ]
  },
  {
   "cell_type": "code",
   "execution_count": 15,
   "metadata": {},
   "outputs": [
    {
     "data": {
      "text/html": [
       "<div>\n",
       "<style scoped>\n",
       "    .dataframe tbody tr th:only-of-type {\n",
       "        vertical-align: middle;\n",
       "    }\n",
       "\n",
       "    .dataframe tbody tr th {\n",
       "        vertical-align: top;\n",
       "    }\n",
       "\n",
       "    .dataframe thead th {\n",
       "        text-align: right;\n",
       "    }\n",
       "</style>\n",
       "<table border=\"1\" class=\"dataframe\">\n",
       "  <thead>\n",
       "    <tr style=\"text-align: right;\">\n",
       "      <th></th>\n",
       "      <th>Traffic Detail(ID)</th>\n",
       "      <th>Time Stamps</th>\n",
       "      <th>Source ip</th>\n",
       "      <th>D Address</th>\n",
       "      <th>SP Address</th>\n",
       "      <th>DP Address</th>\n",
       "      <th>Date</th>\n",
       "      <th>Time</th>\n",
       "    </tr>\n",
       "  </thead>\n",
       "  <tbody>\n",
       "    <tr>\n",
       "      <th>0</th>\n",
       "      <td>3124</td>\n",
       "      <td>20-07-2019 11:30</td>\n",
       "      <td>139.199.164.202</td>\n",
       "      <td>203.190.128.152</td>\n",
       "      <td>20988</td>\n",
       "      <td>8080</td>\n",
       "      <td>07-20-19</td>\n",
       "      <td>11:30</td>\n",
       "    </tr>\n",
       "    <tr>\n",
       "      <th>1</th>\n",
       "      <td>9319</td>\n",
       "      <td>20-07-2019 00:01</td>\n",
       "      <td>95.213.177.122</td>\n",
       "      <td>203.190.128.147</td>\n",
       "      <td>41058</td>\n",
       "      <td>53281</td>\n",
       "      <td>07-20-19</td>\n",
       "      <td>00:01</td>\n",
       "    </tr>\n",
       "    <tr>\n",
       "      <th>2</th>\n",
       "      <td>2872</td>\n",
       "      <td>20-07-2019 03:54</td>\n",
       "      <td>178.212.89.128</td>\n",
       "      <td>203.190.128.157</td>\n",
       "      <td>40921</td>\n",
       "      <td>80</td>\n",
       "      <td>07-20-19</td>\n",
       "      <td>03:54</td>\n",
       "    </tr>\n",
       "    <tr>\n",
       "      <th>3</th>\n",
       "      <td>4804</td>\n",
       "      <td>20-07-2019 07:34</td>\n",
       "      <td>77.247.109.93</td>\n",
       "      <td>203.190.128.129</td>\n",
       "      <td>5124</td>\n",
       "      <td>33661</td>\n",
       "      <td>07-20-19</td>\n",
       "      <td>07:34</td>\n",
       "    </tr>\n",
       "    <tr>\n",
       "      <th>4</th>\n",
       "      <td>9904</td>\n",
       "      <td>20-07-2019 08:46</td>\n",
       "      <td>188.165.198.127</td>\n",
       "      <td>203.190.128.143</td>\n",
       "      <td>137</td>\n",
       "      <td>137</td>\n",
       "      <td>07-20-19</td>\n",
       "      <td>08:46</td>\n",
       "    </tr>\n",
       "    <tr>\n",
       "      <th>...</th>\n",
       "      <td>...</td>\n",
       "      <td>...</td>\n",
       "      <td>...</td>\n",
       "      <td>...</td>\n",
       "      <td>...</td>\n",
       "      <td>...</td>\n",
       "      <td>...</td>\n",
       "      <td>...</td>\n",
       "    </tr>\n",
       "    <tr>\n",
       "      <th>9426</th>\n",
       "      <td>4639</td>\n",
       "      <td>18-08-2019 06:49</td>\n",
       "      <td>203.190.113.200</td>\n",
       "      <td>203.190.128.147</td>\n",
       "      <td>42751</td>\n",
       "      <td>8291</td>\n",
       "      <td>08-18-19</td>\n",
       "      <td>06:49</td>\n",
       "    </tr>\n",
       "    <tr>\n",
       "      <th>9427</th>\n",
       "      <td>8013</td>\n",
       "      <td>18-08-2019 03:01</td>\n",
       "      <td>103.114.105.253</td>\n",
       "      <td>203.190.128.158</td>\n",
       "      <td>57266</td>\n",
       "      <td>3389</td>\n",
       "      <td>08-18-19</td>\n",
       "      <td>03:01</td>\n",
       "    </tr>\n",
       "    <tr>\n",
       "      <th>9428</th>\n",
       "      <td>4642</td>\n",
       "      <td>18-08-2019 00:32</td>\n",
       "      <td>192.168.0.41</td>\n",
       "      <td>185.86.139.19</td>\n",
       "      <td>63320</td>\n",
       "      <td>443</td>\n",
       "      <td>08-18-19</td>\n",
       "      <td>00:32</td>\n",
       "    </tr>\n",
       "    <tr>\n",
       "      <th>9429</th>\n",
       "      <td>8450</td>\n",
       "      <td>18-08-2019 10:23</td>\n",
       "      <td>185.254.122.31</td>\n",
       "      <td>203.190.128.149</td>\n",
       "      <td>46048</td>\n",
       "      <td>17542</td>\n",
       "      <td>08-18-19</td>\n",
       "      <td>10:23</td>\n",
       "    </tr>\n",
       "    <tr>\n",
       "      <th>9430</th>\n",
       "      <td>797</td>\n",
       "      <td>18-08-2019 23:45</td>\n",
       "      <td>192.168.0.98</td>\n",
       "      <td>203.190.128.141</td>\n",
       "      <td>59002</td>\n",
       "      <td>53</td>\n",
       "      <td>08-18-19</td>\n",
       "      <td>23:45</td>\n",
       "    </tr>\n",
       "  </tbody>\n",
       "</table>\n",
       "<p>9431 rows × 8 columns</p>\n",
       "</div>"
      ],
      "text/plain": [
       "     Traffic Detail(ID)       Time Stamps        Source ip        D Address  \\\n",
       "0                  3124  20-07-2019 11:30  139.199.164.202  203.190.128.152   \n",
       "1                  9319  20-07-2019 00:01   95.213.177.122  203.190.128.147   \n",
       "2                  2872  20-07-2019 03:54   178.212.89.128  203.190.128.157   \n",
       "3                  4804  20-07-2019 07:34    77.247.109.93  203.190.128.129   \n",
       "4                  9904  20-07-2019 08:46  188.165.198.127  203.190.128.143   \n",
       "...                 ...               ...              ...              ...   \n",
       "9426               4639  18-08-2019 06:49  203.190.113.200  203.190.128.147   \n",
       "9427               8013  18-08-2019 03:01  103.114.105.253  203.190.128.158   \n",
       "9428               4642  18-08-2019 00:32     192.168.0.41    185.86.139.19   \n",
       "9429               8450  18-08-2019 10:23   185.254.122.31  203.190.128.149   \n",
       "9430                797  18-08-2019 23:45     192.168.0.98  203.190.128.141   \n",
       "\n",
       "     SP Address DP Address      Date   Time  \n",
       "0         20988       8080  07-20-19  11:30  \n",
       "1         41058      53281  07-20-19  00:01  \n",
       "2         40921         80  07-20-19  03:54  \n",
       "3          5124      33661  07-20-19  07:34  \n",
       "4           137        137  07-20-19  08:46  \n",
       "...         ...        ...       ...    ...  \n",
       "9426      42751       8291  08-18-19  06:49  \n",
       "9427      57266       3389  08-18-19  03:01  \n",
       "9428      63320        443  08-18-19  00:32  \n",
       "9429      46048      17542  08-18-19  10:23  \n",
       "9430      59002         53  08-18-19  23:45  \n",
       "\n",
       "[9431 rows x 8 columns]"
      ]
     },
     "execution_count": 15,
     "metadata": {},
     "output_type": "execute_result"
    }
   ],
   "source": [
    "df"
   ]
  },
  {
   "cell_type": "code",
   "execution_count": 16,
   "metadata": {},
   "outputs": [
    {
     "data": {
      "text/plain": [
       "<matplotlib.axes._subplots.AxesSubplot at 0x1fbf31ddf88>"
      ]
     },
     "execution_count": 16,
     "metadata": {},
     "output_type": "execute_result"
    },
    {
     "data": {
      "image/png": "[encoded data removed]",
      "text/plain": [
       "<Figure size 432x288 with 1 Axes>"
      ]
     },
     "metadata": {
      "needs_background": "light"
     },
     "output_type": "display_data"
    }
   ],
   "source": [
    "df['DP Address'].value_counts(sort=True).nlargest(30).plot.bar()\n"
   ]
  },
  {
   "cell_type": "code",
   "execution_count": 17,
   "metadata": {},
   "outputs": [
    {
     "data": {
      "text/plain": [
       "<matplotlib.axes._subplots.AxesSubplot at 0x1fbf3ceef48>"
      ]
     },
     "execution_count": 17,
     "metadata": {},
     "output_type": "execute_result"
    },
    {
     "data": {
      "image/png": "[encoded data removed]",
      "text/plain": [
       "<Figure size 432x288 with 1 Axes>"
      ]
     },
     "metadata": {
      "needs_background": "light"
     },
     "output_type": "display_data"
    }
   ],
   "source": [
    "\n",
    "df['DP Address'].value_counts(sort=True).nlargest(30).plot(kind=\"barh\")\n"
   ]
  },
  {
   "cell_type": "code",
   "execution_count": 18,
   "metadata": {},
   "outputs": [
    {
     "data": {
      "text/plain": [
       "<matplotlib.collections.PathCollection at 0x1fbf3e38208>"
      ]
     },
     "execution_count": 18,
     "metadata": {},
     "output_type": "execute_result"
    },
    {
     "data": {
      "image/png": "[encoded data removed]",
      "text/plain": [
       "<Figure size 432x288 with 1 Axes>"
      ]
     },
     "metadata": {
      "needs_background": "light"
     },
     "output_type": "display_data"
    }
   ],
   "source": [
    "plt.xlabel(\"Source ip count\")\n",
    "plt.ylabel(\"DP Address count\")\n",
    "\n",
    "plt.plot(df['Source ip'].value_counts(sort=True).nlargest(1000),df['DP Address'].value_counts(sort=True).nlargest(1000))\n",
    "plt.scatter(df['Source ip'].value_counts(sort=True).nlargest(1000),df['DP Address'].value_counts(sort=True).nlargest(1000))\n"
   ]
  },
  {
   "cell_type": "code",
   "execution_count": 19,
   "metadata": {},
   "outputs": [
    {
     "data": {
      "text/plain": [
       "9431"
      ]
     },
     "execution_count": 19,
     "metadata": {},
     "output_type": "execute_result"
    },
    {
     "data": {
      "image/png": "[encoded data removed]",
      "text/plain": [
       "<Figure size 432x288 with 1 Axes>"
      ]
     },
     "metadata": {
      "needs_background": "light"
     },
     "output_type": "display_data"
    }
   ],
   "source": [
    "df['DP Address'].value_counts(sort=True).plot.line()\n",
    "df['DP Address'].value_counts(sort=True).sum()"
   ]
  },
  {
   "cell_type": "code",
   "execution_count": 20,
   "metadata": {},
   "outputs": [
    {
     "data": {
      "text/html": [
       "<div>\n",
       "<style scoped>\n",
       "    .dataframe tbody tr th:only-of-type {\n",
       "        vertical-align: middle;\n",
       "    }\n",
       "\n",
       "    .dataframe tbody tr th {\n",
       "        vertical-align: top;\n",
       "    }\n",
       "\n",
       "    .dataframe thead th {\n",
       "        text-align: right;\n",
       "    }\n",
       "</style>\n",
       "<table border=\"1\" class=\"dataframe\">\n",
       "  <thead>\n",
       "    <tr style=\"text-align: right;\">\n",
       "      <th></th>\n",
       "      <th>Traffic Detail(ID)</th>\n",
       "      <th>Time Stamps</th>\n",
       "      <th>Source ip</th>\n",
       "      <th>D Address</th>\n",
       "      <th>SP Address</th>\n",
       "      <th>DP Address</th>\n",
       "      <th>Date</th>\n",
       "      <th>Time</th>\n",
       "    </tr>\n",
       "  </thead>\n",
       "  <tbody>\n",
       "    <tr>\n",
       "      <th>0</th>\n",
       "      <td>3124</td>\n",
       "      <td>20-07-2019 11:30</td>\n",
       "      <td>139.199.164.202</td>\n",
       "      <td>203.190.128.152</td>\n",
       "      <td>20988</td>\n",
       "      <td>8080</td>\n",
       "      <td>07-20-19</td>\n",
       "      <td>11:30</td>\n",
       "    </tr>\n",
       "    <tr>\n",
       "      <th>1</th>\n",
       "      <td>9319</td>\n",
       "      <td>20-07-2019 00:01</td>\n",
       "      <td>95.213.177.122</td>\n",
       "      <td>203.190.128.147</td>\n",
       "      <td>41058</td>\n",
       "      <td>53281</td>\n",
       "      <td>07-20-19</td>\n",
       "      <td>00:01</td>\n",
       "    </tr>\n",
       "    <tr>\n",
       "      <th>2</th>\n",
       "      <td>2872</td>\n",
       "      <td>20-07-2019 03:54</td>\n",
       "      <td>178.212.89.128</td>\n",
       "      <td>203.190.128.157</td>\n",
       "      <td>40921</td>\n",
       "      <td>80</td>\n",
       "      <td>07-20-19</td>\n",
       "      <td>03:54</td>\n",
       "    </tr>\n",
       "    <tr>\n",
       "      <th>3</th>\n",
       "      <td>4804</td>\n",
       "      <td>20-07-2019 07:34</td>\n",
       "      <td>77.247.109.93</td>\n",
       "      <td>203.190.128.129</td>\n",
       "      <td>5124</td>\n",
       "      <td>33661</td>\n",
       "      <td>07-20-19</td>\n",
       "      <td>07:34</td>\n",
       "    </tr>\n",
       "    <tr>\n",
       "      <th>4</th>\n",
       "      <td>9904</td>\n",
       "      <td>20-07-2019 08:46</td>\n",
       "      <td>188.165.198.127</td>\n",
       "      <td>203.190.128.143</td>\n",
       "      <td>137</td>\n",
       "      <td>137</td>\n",
       "      <td>07-20-19</td>\n",
       "      <td>08:46</td>\n",
       "    </tr>\n",
       "    <tr>\n",
       "      <th>...</th>\n",
       "      <td>...</td>\n",
       "      <td>...</td>\n",
       "      <td>...</td>\n",
       "      <td>...</td>\n",
       "      <td>...</td>\n",
       "      <td>...</td>\n",
       "      <td>...</td>\n",
       "      <td>...</td>\n",
       "    </tr>\n",
       "    <tr>\n",
       "      <th>9426</th>\n",
       "      <td>4639</td>\n",
       "      <td>18-08-2019 06:49</td>\n",
       "      <td>203.190.113.200</td>\n",
       "      <td>203.190.128.147</td>\n",
       "      <td>42751</td>\n",
       "      <td>8291</td>\n",
       "      <td>08-18-19</td>\n",
       "      <td>06:49</td>\n",
       "    </tr>\n",
       "    <tr>\n",
       "      <th>9427</th>\n",
       "      <td>8013</td>\n",
       "      <td>18-08-2019 03:01</td>\n",
       "      <td>103.114.105.253</td>\n",
       "      <td>203.190.128.158</td>\n",
       "      <td>57266</td>\n",
       "      <td>3389</td>\n",
       "      <td>08-18-19</td>\n",
       "      <td>03:01</td>\n",
       "    </tr>\n",
       "    <tr>\n",
       "      <th>9428</th>\n",
       "      <td>4642</td>\n",
       "      <td>18-08-2019 00:32</td>\n",
       "      <td>192.168.0.41</td>\n",
       "      <td>185.86.139.19</td>\n",
       "      <td>63320</td>\n",
       "      <td>443</td>\n",
       "      <td>08-18-19</td>\n",
       "      <td>00:32</td>\n",
       "    </tr>\n",
       "    <tr>\n",
       "      <th>9429</th>\n",
       "      <td>8450</td>\n",
       "      <td>18-08-2019 10:23</td>\n",
       "      <td>185.254.122.31</td>\n",
       "      <td>203.190.128.149</td>\n",
       "      <td>46048</td>\n",
       "      <td>17542</td>\n",
       "      <td>08-18-19</td>\n",
       "      <td>10:23</td>\n",
       "    </tr>\n",
       "    <tr>\n",
       "      <th>9430</th>\n",
       "      <td>797</td>\n",
       "      <td>18-08-2019 23:45</td>\n",
       "      <td>192.168.0.98</td>\n",
       "      <td>203.190.128.141</td>\n",
       "      <td>59002</td>\n",
       "      <td>53</td>\n",
       "      <td>08-18-19</td>\n",
       "      <td>23:45</td>\n",
       "    </tr>\n",
       "  </tbody>\n",
       "</table>\n",
       "<p>9431 rows × 8 columns</p>\n",
       "</div>"
      ],
      "text/plain": [
       "     Traffic Detail(ID)       Time Stamps        Source ip        D Address  \\\n",
       "0                  3124  20-07-2019 11:30  139.199.164.202  203.190.128.152   \n",
       "1                  9319  20-07-2019 00:01   95.213.177.122  203.190.128.147   \n",
       "2                  2872  20-07-2019 03:54   178.212.89.128  203.190.128.157   \n",
       "3                  4804  20-07-2019 07:34    77.247.109.93  203.190.128.129   \n",
       "4                  9904  20-07-2019 08:46  188.165.198.127  203.190.128.143   \n",
       "...                 ...               ...              ...              ...   \n",
       "9426               4639  18-08-2019 06:49  203.190.113.200  203.190.128.147   \n",
       "9427               8013  18-08-2019 03:01  103.114.105.253  203.190.128.158   \n",
       "9428               4642  18-08-2019 00:32     192.168.0.41    185.86.139.19   \n",
       "9429               8450  18-08-2019 10:23   185.254.122.31  203.190.128.149   \n",
       "9430                797  18-08-2019 23:45     192.168.0.98  203.190.128.141   \n",
       "\n",
       "     SP Address DP Address      Date   Time  \n",
       "0         20988       8080  07-20-19  11:30  \n",
       "1         41058      53281  07-20-19  00:01  \n",
       "2         40921         80  07-20-19  03:54  \n",
       "3          5124      33661  07-20-19  07:34  \n",
       "4           137        137  07-20-19  08:46  \n",
       "...         ...        ...       ...    ...  \n",
       "9426      42751       8291  08-18-19  06:49  \n",
       "9427      57266       3389  08-18-19  03:01  \n",
       "9428      63320        443  08-18-19  00:32  \n",
       "9429      46048      17542  08-18-19  10:23  \n",
       "9430      59002         53  08-18-19  23:45  \n",
       "\n",
       "[9431 rows x 8 columns]"
      ]
     },
     "execution_count": 20,
     "metadata": {},
     "output_type": "execute_result"
    }
   ],
   "source": [
    "df\n"
   ]
  },
  {
   "cell_type": "code",
   "execution_count": 21,
   "metadata": {},
   "outputs": [],
   "source": [
    "count = df.pivot_table(index=\"DP Address\", aggfunc=pd.Series.unique)\n",
    "count.drop(['D Address','Date','SP Address','Source ip','Time','Time Stamps'],inplace=True,axis=1)\n"
   ]
  },
  {
   "cell_type": "code",
   "execution_count": 22,
   "metadata": {},
   "outputs": [],
   "source": [
    "#Run it when have to reset the Value Count\n",
    "#count.drop(['VALUE COUNT'],inplace=True,axis=1)"
   ]
  },
  {
   "cell_type": "code",
   "execution_count": 23,
   "metadata": {},
   "outputs": [],
   "source": [
    "counting(count,'Traffic Detail(ID)')\n"
   ]
  },
  {
   "cell_type": "code",
   "execution_count": 24,
   "metadata": {},
   "outputs": [],
   "source": [
    "count=count.sort_values(by='VALUE COUNT',ascending=False)"
   ]
  },
  {
   "cell_type": "code",
   "execution_count": 25,
   "metadata": {},
   "outputs": [],
   "source": [
    "count.drop(['Traffic Detail(ID)'],inplace=True,axis=1)\n"
   ]
  },
  {
   "cell_type": "code",
   "execution_count": 26,
   "metadata": {},
   "outputs": [
    {
     "data": {
      "text/html": [
       "<div>\n",
       "<style scoped>\n",
       "    .dataframe tbody tr th:only-of-type {\n",
       "        vertical-align: middle;\n",
       "    }\n",
       "\n",
       "    .dataframe tbody tr th {\n",
       "        vertical-align: top;\n",
       "    }\n",
       "\n",
       "    .dataframe thead th {\n",
       "        text-align: right;\n",
       "    }\n",
       "</style>\n",
       "<table border=\"1\" class=\"dataframe\">\n",
       "  <thead>\n",
       "    <tr style=\"text-align: right;\">\n",
       "      <th></th>\n",
       "      <th>VALUE COUNT</th>\n",
       "    </tr>\n",
       "    <tr>\n",
       "      <th>DP Address</th>\n",
       "      <th></th>\n",
       "    </tr>\n",
       "  </thead>\n",
       "  <tbody>\n",
       "    <tr>\n",
       "      <th>53</th>\n",
       "      <td>3380</td>\n",
       "    </tr>\n",
       "    <tr>\n",
       "      <th>443</th>\n",
       "      <td>2369</td>\n",
       "    </tr>\n",
       "    <tr>\n",
       "      <th>80</th>\n",
       "      <td>321</td>\n",
       "    </tr>\n",
       "    <tr>\n",
       "      <th>23</th>\n",
       "      <td>297</td>\n",
       "    </tr>\n",
       "    <tr>\n",
       "      <th>8080</th>\n",
       "      <td>261</td>\n",
       "    </tr>\n",
       "    <tr>\n",
       "      <th>...</th>\n",
       "      <td>...</td>\n",
       "    </tr>\n",
       "    <tr>\n",
       "      <th>3525</th>\n",
       "      <td>1</td>\n",
       "    </tr>\n",
       "    <tr>\n",
       "      <th>35181</th>\n",
       "      <td>1</td>\n",
       "    </tr>\n",
       "    <tr>\n",
       "      <th>35150</th>\n",
       "      <td>1</td>\n",
       "    </tr>\n",
       "    <tr>\n",
       "      <th>3512</th>\n",
       "      <td>1</td>\n",
       "    </tr>\n",
       "    <tr>\n",
       "      <th>10</th>\n",
       "      <td>1</td>\n",
       "    </tr>\n",
       "  </tbody>\n",
       "</table>\n",
       "<p>1515 rows × 1 columns</p>\n",
       "</div>"
      ],
      "text/plain": [
       "            VALUE COUNT\n",
       "DP Address             \n",
       "53                 3380\n",
       "443                2369\n",
       "80                  321\n",
       "23                  297\n",
       "8080                261\n",
       "...                 ...\n",
       "3525                  1\n",
       "35181                 1\n",
       "35150                 1\n",
       "3512                  1\n",
       "10                    1\n",
       "\n",
       "[1515 rows x 1 columns]"
      ]
     },
     "execution_count": 26,
     "metadata": {},
     "output_type": "execute_result"
    }
   ],
   "source": [
    "count"
   ]
  },
  {
   "cell_type": "code",
   "execution_count": 27,
   "metadata": {},
   "outputs": [],
   "source": [
    "count.reset_index(inplace=True)"
   ]
  },
  {
   "cell_type": "code",
   "execution_count": 28,
   "metadata": {},
   "outputs": [
    {
     "name": "stdout",
     "output_type": "stream",
     "text": [
      "3294\n"
     ]
    }
   ],
   "source": [
    "#from 8080\n",
    "others=count['VALUE COUNT'][4:1515].sum()\n",
    "print(others)"
   ]
  },
  {
   "cell_type": "code",
   "execution_count": 29,
   "metadata": {},
   "outputs": [
    {
     "data": {
      "text/html": [
       "<div>\n",
       "<style scoped>\n",
       "    .dataframe tbody tr th:only-of-type {\n",
       "        vertical-align: middle;\n",
       "    }\n",
       "\n",
       "    .dataframe tbody tr th {\n",
       "        vertical-align: top;\n",
       "    }\n",
       "\n",
       "    .dataframe thead th {\n",
       "        text-align: right;\n",
       "    }\n",
       "</style>\n",
       "<table border=\"1\" class=\"dataframe\">\n",
       "  <thead>\n",
       "    <tr style=\"text-align: right;\">\n",
       "      <th></th>\n",
       "      <th>DP Address</th>\n",
       "      <th>VALUE COUNT</th>\n",
       "    </tr>\n",
       "  </thead>\n",
       "  <tbody>\n",
       "    <tr>\n",
       "      <th>0</th>\n",
       "      <td>53</td>\n",
       "      <td>3380</td>\n",
       "    </tr>\n",
       "    <tr>\n",
       "      <th>1</th>\n",
       "      <td>443</td>\n",
       "      <td>2369</td>\n",
       "    </tr>\n",
       "    <tr>\n",
       "      <th>2</th>\n",
       "      <td>80</td>\n",
       "      <td>321</td>\n",
       "    </tr>\n",
       "    <tr>\n",
       "      <th>3</th>\n",
       "      <td>23</td>\n",
       "      <td>297</td>\n",
       "    </tr>\n",
       "    <tr>\n",
       "      <th>4</th>\n",
       "      <td>8080</td>\n",
       "      <td>261</td>\n",
       "    </tr>\n",
       "    <tr>\n",
       "      <th>...</th>\n",
       "      <td>...</td>\n",
       "      <td>...</td>\n",
       "    </tr>\n",
       "    <tr>\n",
       "      <th>1511</th>\n",
       "      <td>35181</td>\n",
       "      <td>1</td>\n",
       "    </tr>\n",
       "    <tr>\n",
       "      <th>1512</th>\n",
       "      <td>35150</td>\n",
       "      <td>1</td>\n",
       "    </tr>\n",
       "    <tr>\n",
       "      <th>1513</th>\n",
       "      <td>3512</td>\n",
       "      <td>1</td>\n",
       "    </tr>\n",
       "    <tr>\n",
       "      <th>1514</th>\n",
       "      <td>10</td>\n",
       "      <td>1</td>\n",
       "    </tr>\n",
       "    <tr>\n",
       "      <th>1515</th>\n",
       "      <td>Others</td>\n",
       "      <td>3294</td>\n",
       "    </tr>\n",
       "  </tbody>\n",
       "</table>\n",
       "<p>1516 rows × 2 columns</p>\n",
       "</div>"
      ],
      "text/plain": [
       "     DP Address  VALUE COUNT\n",
       "0            53         3380\n",
       "1           443         2369\n",
       "2            80          321\n",
       "3            23          297\n",
       "4          8080          261\n",
       "...         ...          ...\n",
       "1511      35181            1\n",
       "1512      35150            1\n",
       "1513       3512            1\n",
       "1514         10            1\n",
       "1515     Others         3294\n",
       "\n",
       "[1516 rows x 2 columns]"
      ]
     },
     "execution_count": 29,
     "metadata": {},
     "output_type": "execute_result"
    }
   ],
   "source": [
    "new_val={\"DP Address\":\"Others\",\"VALUE COUNT\":count['VALUE COUNT'][4:1515].sum()}\n",
    "count=count.append(new_val,ignore_index=True)\n",
    "count"
   ]
  },
  {
   "cell_type": "code",
   "execution_count": 30,
   "metadata": {},
   "outputs": [],
   "source": [
    "count.drop(count.index[4:1515],axis=0,inplace=True)"
   ]
  },
  {
   "cell_type": "code",
   "execution_count": 31,
   "metadata": {},
   "outputs": [],
   "source": [
    "count.reset_index(inplace=True)"
   ]
  },
  {
   "cell_type": "code",
   "execution_count": 32,
   "metadata": {},
   "outputs": [],
   "source": [
    "count.drop(['index'],inplace=True,axis=1)"
   ]
  },
  {
   "cell_type": "code",
   "execution_count": 33,
   "metadata": {},
   "outputs": [
    {
     "data": {
      "text/html": [
       "<div>\n",
       "<style scoped>\n",
       "    .dataframe tbody tr th:only-of-type {\n",
       "        vertical-align: middle;\n",
       "    }\n",
       "\n",
       "    .dataframe tbody tr th {\n",
       "        vertical-align: top;\n",
       "    }\n",
       "\n",
       "    .dataframe thead th {\n",
       "        text-align: right;\n",
       "    }\n",
       "</style>\n",
       "<table border=\"1\" class=\"dataframe\">\n",
       "  <thead>\n",
       "    <tr style=\"text-align: right;\">\n",
       "      <th></th>\n",
       "      <th>DP Address</th>\n",
       "      <th>VALUE COUNT</th>\n",
       "    </tr>\n",
       "  </thead>\n",
       "  <tbody>\n",
       "    <tr>\n",
       "      <th>0</th>\n",
       "      <td>53</td>\n",
       "      <td>3380</td>\n",
       "    </tr>\n",
       "    <tr>\n",
       "      <th>1</th>\n",
       "      <td>443</td>\n",
       "      <td>2369</td>\n",
       "    </tr>\n",
       "    <tr>\n",
       "      <th>2</th>\n",
       "      <td>80</td>\n",
       "      <td>321</td>\n",
       "    </tr>\n",
       "    <tr>\n",
       "      <th>3</th>\n",
       "      <td>23</td>\n",
       "      <td>297</td>\n",
       "    </tr>\n",
       "    <tr>\n",
       "      <th>4</th>\n",
       "      <td>Others</td>\n",
       "      <td>3294</td>\n",
       "    </tr>\n",
       "  </tbody>\n",
       "</table>\n",
       "</div>"
      ],
      "text/plain": [
       "  DP Address  VALUE COUNT\n",
       "0         53         3380\n",
       "1        443         2369\n",
       "2         80          321\n",
       "3         23          297\n",
       "4     Others         3294"
      ]
     },
     "execution_count": 33,
     "metadata": {},
     "output_type": "execute_result"
    }
   ],
   "source": [
    "count"
   ]
  },
  {
   "cell_type": "code",
   "execution_count": 34,
   "metadata": {},
   "outputs": [
    {
     "data": {
      "text/plain": [
       "<matplotlib.collections.PathCollection at 0x1fbf34d78c8>"
      ]
     },
     "execution_count": 34,
     "metadata": {},
     "output_type": "execute_result"
    },
    {
     "data": {
      "image/png": "[encoded data removed]",
      "text/plain": [
       "<Figure size 432x288 with 1 Axes>"
      ]
     },
     "metadata": {
      "needs_background": "light"
     },
     "output_type": "display_data"
    }
   ],
   "source": [
    "plt.scatter(count['DP Address'],count['VALUE COUNT'])\n"
   ]
  },
  {
   "cell_type": "code",
   "execution_count": 35,
   "metadata": {},
   "outputs": [
    {
     "data": {
      "text/plain": [
       "(0        53\n",
       " 1       443\n",
       " 2        80\n",
       " 3        23\n",
       " 4    Others\n",
       " Name: DP Address, dtype: object,\n",
       " <matplotlib.axes._subplots.AxesSubplot at 0x1fbf34aa688>)"
      ]
     },
     "execution_count": 35,
     "metadata": {},
     "output_type": "execute_result"
    },
    {
     "data": {
      "image/png": "[encoded data removed]",
      "text/plain": [
       "<Figure size 432x288 with 1 Axes>"
      ]
     },
     "metadata": {
      "needs_background": "light"
     },
     "output_type": "display_data"
    }
   ],
   "source": [
    "plt.xlabel(\"DP Address\")\n",
    "plt.ylabel(\"VALUE COUNT\")\n",
    "count['DP Address'],count['VALUE COUNT'].plot(kind=\"bar\")"
   ]
  },
  {
   "cell_type": "code",
   "execution_count": 36,
   "metadata": {},
   "outputs": [
    {
     "data": {
      "text/plain": [
       "<matplotlib.axes._subplots.AxesSubplot at 0x1fbf343bbc8>"
      ]
     },
     "execution_count": 36,
     "metadata": {},
     "output_type": "execute_result"
    },
    {
     "data": {
      "image/png": "[encoded data removed]",
      "text/plain": [
       "<Figure size 432x288 with 1 Axes>"
      ]
     },
     "metadata": {
      "needs_background": "light"
     },
     "output_type": "display_data"
    }
   ],
   "source": [
    "count.groupby(['DP Address','VALUE COUNT']).size().unstack().plot(kind='barh',stacked=True)"
   ]
  },
  {
   "cell_type": "code",
   "execution_count": 37,
   "metadata": {},
   "outputs": [
    {
     "data": {
      "text/plain": [
       "[<matplotlib.lines.Line2D at 0x1fbf31e7748>]"
      ]
     },
     "execution_count": 37,
     "metadata": {},
     "output_type": "execute_result"
    },
    {
     "data": {
      "image/png": "[encoded data removed]",
      "text/plain": [
       "<Figure size 432x288 with 1 Axes>"
      ]
     },
     "metadata": {
      "needs_background": "light"
     },
     "output_type": "display_data"
    }
   ],
   "source": [
    "plt.plot(count['DP Address'],count['VALUE COUNT'])"
   ]
  },
  {
   "cell_type": "code",
   "execution_count": null,
   "metadata": {},
   "outputs": [],
   "source": []
  },
  {
   "cell_type": "code",
   "execution_count": null,
   "metadata": {},
   "outputs": [],
   "source": []
  }
 ],
 "metadata": {
  "kernelspec": {
   "display_name": "Python 3",
   "language": "python",
   "name": "python3"
  },
  "language_info": {
   "codemirror_mode": {
    "name": "ipython",
    "version": 3
   },
   "file_extension": ".py",
   "mimetype": "text/x-python",
   "name": "python",
   "nbconvert_exporter": "python",
   "pygments_lexer": "ipython3",
   "version": "3.7.6"
  }
 },
 "nbformat": 4,
 "nbformat_minor": 4
}
