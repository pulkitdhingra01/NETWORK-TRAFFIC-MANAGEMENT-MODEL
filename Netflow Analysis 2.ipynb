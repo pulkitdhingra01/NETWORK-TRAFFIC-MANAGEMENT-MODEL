{
 "cells": [
  {
   "cell_type": "code",
   "execution_count": 168,
   "metadata": {},
   "outputs": [],
   "source": [
    "import numpy as np\n",
    "import pandas as pd\n",
    "import math\n",
    "import matplotlib.pyplot as plt\n",
    "import statsmodels.api as sm\n",
    "from datetime import datetime\n",
    "\n",
    "\n",
    "path=r\"C:\\Users\\praya\\Documents\\Project STPI\\Netflow Data_formulae.csv\"\n",
    "data=pd.read_csv(path,parse_dates=[0],infer_datetime_format= True, dayfirst=True,)"
   ]
  },
  {
   "cell_type": "code",
   "execution_count": 169,
   "metadata": {},
   "outputs": [
    {
     "name": "stdout",
     "output_type": "stream",
     "text": [
      "(10001, 9)\n"
     ]
    }
   ],
   "source": [
    "print(data.shape)"
   ]
  },
  {
   "cell_type": "code",
   "execution_count": 170,
   "metadata": {},
   "outputs": [],
   "source": [
    "data.drop(['IF(AND(E3>1023,OR(D3 = \"8.8.8.8\", D3 = \"203.190.128.141\"),F3=53), \"DNSREQ\", \"DNSRES\")\\n\\n\\n'],inplace=True,axis=1)"
   ]
  },
  {
   "cell_type": "code",
   "execution_count": 171,
   "metadata": {},
   "outputs": [
    {
     "data": {
      "text/html": [
       "<div>\n",
       "<style scoped>\n",
       "    .dataframe tbody tr th:only-of-type {\n",
       "        vertical-align: middle;\n",
       "    }\n",
       "\n",
       "    .dataframe tbody tr th {\n",
       "        vertical-align: top;\n",
       "    }\n",
       "\n",
       "    .dataframe thead th {\n",
       "        text-align: right;\n",
       "    }\n",
       "</style>\n",
       "<table border=\"1\" class=\"dataframe\">\n",
       "  <thead>\n",
       "    <tr style=\"text-align: right;\">\n",
       "      <th></th>\n",
       "      <th>###Traffic Detail###</th>\n",
       "      <th>Unnamed: 1</th>\n",
       "      <th>Unnamed: 2</th>\n",
       "      <th>Unnamed: 3</th>\n",
       "      <th>Unnamed: 4</th>\n",
       "      <th>Unnamed: 5</th>\n",
       "      <th>Unnamed: 6</th>\n",
       "      <th>Unnamed: 7</th>\n",
       "    </tr>\n",
       "  </thead>\n",
       "  <tbody>\n",
       "    <tr>\n",
       "      <th>0</th>\n",
       "      <td>ID</td>\n",
       "      <td>Time</td>\n",
       "      <td>source</td>\n",
       "      <td>destination</td>\n",
       "      <td>source port</td>\n",
       "      <td>destination port</td>\n",
       "      <td>FLAGS</td>\n",
       "      <td>NaN</td>\n",
       "    </tr>\n",
       "    <tr>\n",
       "      <th>1</th>\n",
       "      <td>1</td>\n",
       "      <td>05-08-2019 13:43</td>\n",
       "      <td>192.168.0.123</td>\n",
       "      <td>8.8.8.8</td>\n",
       "      <td>52684</td>\n",
       "      <td>53</td>\n",
       "      <td>DNSREQ</td>\n",
       "      <td>NaN</td>\n",
       "    </tr>\n",
       "    <tr>\n",
       "      <th>2</th>\n",
       "      <td>2</td>\n",
       "      <td>07-08-2019 17:41</td>\n",
       "      <td>192.168.0.19</td>\n",
       "      <td>203.190.128.141</td>\n",
       "      <td>11635</td>\n",
       "      <td>53</td>\n",
       "      <td>DNSREQ</td>\n",
       "      <td>NaN</td>\n",
       "    </tr>\n",
       "    <tr>\n",
       "      <th>3</th>\n",
       "      <td>3</td>\n",
       "      <td>30-07-2019 14:36</td>\n",
       "      <td>192.168.0.112</td>\n",
       "      <td>40.90.185.223</td>\n",
       "      <td>51931</td>\n",
       "      <td>443</td>\n",
       "      <td>DNSRES</td>\n",
       "      <td>NaN</td>\n",
       "    </tr>\n",
       "    <tr>\n",
       "      <th>4</th>\n",
       "      <td>4</td>\n",
       "      <td>02-08-2019 10:53</td>\n",
       "      <td>192.168.0.171</td>\n",
       "      <td>8.8.8.8</td>\n",
       "      <td>50835</td>\n",
       "      <td>53</td>\n",
       "      <td>DNSREQ</td>\n",
       "      <td>NaN</td>\n",
       "    </tr>\n",
       "    <tr>\n",
       "      <th>...</th>\n",
       "      <td>...</td>\n",
       "      <td>...</td>\n",
       "      <td>...</td>\n",
       "      <td>...</td>\n",
       "      <td>...</td>\n",
       "      <td>...</td>\n",
       "      <td>...</td>\n",
       "      <td>...</td>\n",
       "    </tr>\n",
       "    <tr>\n",
       "      <th>9996</th>\n",
       "      <td>9996</td>\n",
       "      <td>25-07-2019 17:02</td>\n",
       "      <td>203.190.41.130</td>\n",
       "      <td>203.190.128.131</td>\n",
       "      <td>5818</td>\n",
       "      <td>23</td>\n",
       "      <td>DNSRES</td>\n",
       "      <td>NaN</td>\n",
       "    </tr>\n",
       "    <tr>\n",
       "      <th>9997</th>\n",
       "      <td>9997</td>\n",
       "      <td>01-08-2019 15:50</td>\n",
       "      <td>203.100.75.3</td>\n",
       "      <td>203.190.128.136</td>\n",
       "      <td>27531</td>\n",
       "      <td>8080</td>\n",
       "      <td>DNSRES</td>\n",
       "      <td>NaN</td>\n",
       "    </tr>\n",
       "    <tr>\n",
       "      <th>9998</th>\n",
       "      <td>9998</td>\n",
       "      <td>20-07-2019 02:46</td>\n",
       "      <td>71.6.232.5</td>\n",
       "      <td>203.190.128.155</td>\n",
       "      <td>59414</td>\n",
       "      <td>20005</td>\n",
       "      <td>DNSRES</td>\n",
       "      <td>NaN</td>\n",
       "    </tr>\n",
       "    <tr>\n",
       "      <th>9999</th>\n",
       "      <td>9999</td>\n",
       "      <td>26-07-2019 13:29</td>\n",
       "      <td>192.168.0.224</td>\n",
       "      <td>13.234.86.210</td>\n",
       "      <td>57213</td>\n",
       "      <td>80</td>\n",
       "      <td>DNSRES</td>\n",
       "      <td>NaN</td>\n",
       "    </tr>\n",
       "    <tr>\n",
       "      <th>10000</th>\n",
       "      <td>10000</td>\n",
       "      <td>12-08-2019 08:21</td>\n",
       "      <td>77.247.108.77</td>\n",
       "      <td>203.190.128.137</td>\n",
       "      <td>53234</td>\n",
       "      <td>5038</td>\n",
       "      <td>DNSRES</td>\n",
       "      <td>NaN</td>\n",
       "    </tr>\n",
       "  </tbody>\n",
       "</table>\n",
       "<p>10001 rows × 8 columns</p>\n",
       "</div>"
      ],
      "text/plain": [
       "      ###Traffic Detail###        Unnamed: 1      Unnamed: 2       Unnamed: 3  \\\n",
       "0                       ID              Time          source      destination   \n",
       "1                        1  05-08-2019 13:43   192.168.0.123          8.8.8.8   \n",
       "2                        2  07-08-2019 17:41    192.168.0.19  203.190.128.141   \n",
       "3                        3  30-07-2019 14:36   192.168.0.112    40.90.185.223   \n",
       "4                        4  02-08-2019 10:53   192.168.0.171          8.8.8.8   \n",
       "...                    ...               ...             ...              ...   \n",
       "9996                  9996  25-07-2019 17:02  203.190.41.130  203.190.128.131   \n",
       "9997                  9997  01-08-2019 15:50    203.100.75.3  203.190.128.136   \n",
       "9998                  9998  20-07-2019 02:46      71.6.232.5  203.190.128.155   \n",
       "9999                  9999  26-07-2019 13:29   192.168.0.224    13.234.86.210   \n",
       "10000                10000  12-08-2019 08:21   77.247.108.77  203.190.128.137   \n",
       "\n",
       "        Unnamed: 4        Unnamed: 5 Unnamed: 6  Unnamed: 7  \n",
       "0      source port  destination port      FLAGS         NaN  \n",
       "1            52684                53     DNSREQ         NaN  \n",
       "2            11635                53     DNSREQ         NaN  \n",
       "3            51931               443     DNSRES         NaN  \n",
       "4            50835                53     DNSREQ         NaN  \n",
       "...            ...               ...        ...         ...  \n",
       "9996          5818                23     DNSRES         NaN  \n",
       "9997         27531              8080     DNSRES         NaN  \n",
       "9998         59414             20005     DNSRES         NaN  \n",
       "9999         57213                80     DNSRES         NaN  \n",
       "10000        53234              5038     DNSRES         NaN  \n",
       "\n",
       "[10001 rows x 8 columns]"
      ]
     },
     "execution_count": 171,
     "metadata": {},
     "output_type": "execute_result"
    }
   ],
   "source": [
    "data"
   ]
  },
  {
   "cell_type": "code",
   "execution_count": 172,
   "metadata": {},
   "outputs": [],
   "source": [
    "data.drop(['Unnamed: 7'],inplace=True,axis=1)"
   ]
  },
  {
   "cell_type": "code",
   "execution_count": 173,
   "metadata": {},
   "outputs": [],
   "source": [
    "nan_value=float(\"NaN\")\n",
    "data.replace(\" \",nan_value , inplace=True)\n",
    "data.dropna(subset=[\"Unnamed: 4\"],inplace=True)"
   ]
  },
  {
   "cell_type": "code",
   "execution_count": 174,
   "metadata": {},
   "outputs": [
    {
     "data": {
      "text/plain": [
       "(9432, 7)"
      ]
     },
     "execution_count": 174,
     "metadata": {},
     "output_type": "execute_result"
    }
   ],
   "source": [
    "data.shape"
   ]
  },
  {
   "cell_type": "code",
   "execution_count": 175,
   "metadata": {},
   "outputs": [],
   "source": [
    "df=data.rename(columns={\"Unnamed: 1\":\"Time Stamps\",\"Unnamed: 2\":\"Source ip\",\"Unnamed: 3\":\"D Address\",\"Unnamed: 4\":\"SP Address\",\"Unnamed: 5\":\"DP Address\",\"###Traffic Detail###\":\"Traffic Detail(ID)\",\"Unnamed: 6\":\"FLAGS\"})"
   ]
  },
  {
   "cell_type": "code",
   "execution_count": 176,
   "metadata": {},
   "outputs": [],
   "source": [
    "df.drop(index=0,axis=0,inplace=True)"
   ]
  },
  {
   "cell_type": "code",
   "execution_count": 177,
   "metadata": {},
   "outputs": [],
   "source": [
    "df['Date']=df['Time Stamps']\n",
    "df[['Date','Time']]=df.Date.str.split(expand=True)"
   ]
  },
  {
   "cell_type": "code",
   "execution_count": 180,
   "metadata": {},
   "outputs": [],
   "source": [
    "df['Date'] = pd.to_datetime(df['Date'], errors='coerce')\n",
    "df['Date'] = df['Date'].dt.strftime('%m-%d-%y')"
   ]
  },
  {
   "cell_type": "code",
   "execution_count": 181,
   "metadata": {},
   "outputs": [],
   "source": [
    "df=df.sort_values(by='Date')"
   ]
  },
  {
   "cell_type": "code",
   "execution_count": 182,
   "metadata": {},
   "outputs": [],
   "source": [
    "df.reset_index(inplace=True)\n",
    "df.drop(['index'],inplace=True,axis=1)"
   ]
  },
  {
   "cell_type": "code",
   "execution_count": 183,
   "metadata": {},
   "outputs": [
    {
     "data": {
      "text/html": [
       "<div>\n",
       "<style scoped>\n",
       "    .dataframe tbody tr th:only-of-type {\n",
       "        vertical-align: middle;\n",
       "    }\n",
       "\n",
       "    .dataframe tbody tr th {\n",
       "        vertical-align: top;\n",
       "    }\n",
       "\n",
       "    .dataframe thead th {\n",
       "        text-align: right;\n",
       "    }\n",
       "</style>\n",
       "<table border=\"1\" class=\"dataframe\">\n",
       "  <thead>\n",
       "    <tr style=\"text-align: right;\">\n",
       "      <th></th>\n",
       "      <th>Traffic Detail(ID)</th>\n",
       "      <th>Time Stamps</th>\n",
       "      <th>Source ip</th>\n",
       "      <th>D Address</th>\n",
       "      <th>SP Address</th>\n",
       "      <th>DP Address</th>\n",
       "      <th>FLAGS</th>\n",
       "      <th>Date</th>\n",
       "      <th>Time</th>\n",
       "    </tr>\n",
       "  </thead>\n",
       "  <tbody>\n",
       "    <tr>\n",
       "      <th>0</th>\n",
       "      <td>3124</td>\n",
       "      <td>20-07-2019 11:30</td>\n",
       "      <td>139.199.164.202</td>\n",
       "      <td>203.190.128.152</td>\n",
       "      <td>20988</td>\n",
       "      <td>8080</td>\n",
       "      <td>DNSRES</td>\n",
       "      <td>07-20-19</td>\n",
       "      <td>11:30</td>\n",
       "    </tr>\n",
       "    <tr>\n",
       "      <th>1</th>\n",
       "      <td>9319</td>\n",
       "      <td>20-07-2019 00:01</td>\n",
       "      <td>95.213.177.122</td>\n",
       "      <td>203.190.128.147</td>\n",
       "      <td>41058</td>\n",
       "      <td>53281</td>\n",
       "      <td>DNSRES</td>\n",
       "      <td>07-20-19</td>\n",
       "      <td>00:01</td>\n",
       "    </tr>\n",
       "    <tr>\n",
       "      <th>2</th>\n",
       "      <td>2872</td>\n",
       "      <td>20-07-2019 03:54</td>\n",
       "      <td>178.212.89.128</td>\n",
       "      <td>203.190.128.157</td>\n",
       "      <td>40921</td>\n",
       "      <td>80</td>\n",
       "      <td>DNSRES</td>\n",
       "      <td>07-20-19</td>\n",
       "      <td>03:54</td>\n",
       "    </tr>\n",
       "    <tr>\n",
       "      <th>3</th>\n",
       "      <td>4804</td>\n",
       "      <td>20-07-2019 07:34</td>\n",
       "      <td>77.247.109.93</td>\n",
       "      <td>203.190.128.129</td>\n",
       "      <td>5124</td>\n",
       "      <td>33661</td>\n",
       "      <td>DNSRES</td>\n",
       "      <td>07-20-19</td>\n",
       "      <td>07:34</td>\n",
       "    </tr>\n",
       "    <tr>\n",
       "      <th>4</th>\n",
       "      <td>9904</td>\n",
       "      <td>20-07-2019 08:46</td>\n",
       "      <td>188.165.198.127</td>\n",
       "      <td>203.190.128.143</td>\n",
       "      <td>137</td>\n",
       "      <td>137</td>\n",
       "      <td>DNSRES</td>\n",
       "      <td>07-20-19</td>\n",
       "      <td>08:46</td>\n",
       "    </tr>\n",
       "    <tr>\n",
       "      <th>...</th>\n",
       "      <td>...</td>\n",
       "      <td>...</td>\n",
       "      <td>...</td>\n",
       "      <td>...</td>\n",
       "      <td>...</td>\n",
       "      <td>...</td>\n",
       "      <td>...</td>\n",
       "      <td>...</td>\n",
       "      <td>...</td>\n",
       "    </tr>\n",
       "    <tr>\n",
       "      <th>9426</th>\n",
       "      <td>4639</td>\n",
       "      <td>18-08-2019 06:49</td>\n",
       "      <td>203.190.113.200</td>\n",
       "      <td>203.190.128.147</td>\n",
       "      <td>42751</td>\n",
       "      <td>8291</td>\n",
       "      <td>DNSRES</td>\n",
       "      <td>08-18-19</td>\n",
       "      <td>06:49</td>\n",
       "    </tr>\n",
       "    <tr>\n",
       "      <th>9427</th>\n",
       "      <td>8013</td>\n",
       "      <td>18-08-2019 03:01</td>\n",
       "      <td>103.114.105.253</td>\n",
       "      <td>203.190.128.158</td>\n",
       "      <td>57266</td>\n",
       "      <td>3389</td>\n",
       "      <td>DNSRES</td>\n",
       "      <td>08-18-19</td>\n",
       "      <td>03:01</td>\n",
       "    </tr>\n",
       "    <tr>\n",
       "      <th>9428</th>\n",
       "      <td>4642</td>\n",
       "      <td>18-08-2019 00:32</td>\n",
       "      <td>192.168.0.41</td>\n",
       "      <td>185.86.139.19</td>\n",
       "      <td>63320</td>\n",
       "      <td>443</td>\n",
       "      <td>DNSRES</td>\n",
       "      <td>08-18-19</td>\n",
       "      <td>00:32</td>\n",
       "    </tr>\n",
       "    <tr>\n",
       "      <th>9429</th>\n",
       "      <td>8450</td>\n",
       "      <td>18-08-2019 10:23</td>\n",
       "      <td>185.254.122.31</td>\n",
       "      <td>203.190.128.149</td>\n",
       "      <td>46048</td>\n",
       "      <td>17542</td>\n",
       "      <td>DNSRES</td>\n",
       "      <td>08-18-19</td>\n",
       "      <td>10:23</td>\n",
       "    </tr>\n",
       "    <tr>\n",
       "      <th>9430</th>\n",
       "      <td>797</td>\n",
       "      <td>18-08-2019 23:45</td>\n",
       "      <td>192.168.0.98</td>\n",
       "      <td>203.190.128.141</td>\n",
       "      <td>59002</td>\n",
       "      <td>53</td>\n",
       "      <td>DNSREQ</td>\n",
       "      <td>08-18-19</td>\n",
       "      <td>23:45</td>\n",
       "    </tr>\n",
       "  </tbody>\n",
       "</table>\n",
       "<p>9431 rows × 9 columns</p>\n",
       "</div>"
      ],
      "text/plain": [
       "     Traffic Detail(ID)       Time Stamps        Source ip        D Address  \\\n",
       "0                  3124  20-07-2019 11:30  139.199.164.202  203.190.128.152   \n",
       "1                  9319  20-07-2019 00:01   95.213.177.122  203.190.128.147   \n",
       "2                  2872  20-07-2019 03:54   178.212.89.128  203.190.128.157   \n",
       "3                  4804  20-07-2019 07:34    77.247.109.93  203.190.128.129   \n",
       "4                  9904  20-07-2019 08:46  188.165.198.127  203.190.128.143   \n",
       "...                 ...               ...              ...              ...   \n",
       "9426               4639  18-08-2019 06:49  203.190.113.200  203.190.128.147   \n",
       "9427               8013  18-08-2019 03:01  103.114.105.253  203.190.128.158   \n",
       "9428               4642  18-08-2019 00:32     192.168.0.41    185.86.139.19   \n",
       "9429               8450  18-08-2019 10:23   185.254.122.31  203.190.128.149   \n",
       "9430                797  18-08-2019 23:45     192.168.0.98  203.190.128.141   \n",
       "\n",
       "     SP Address DP Address   FLAGS      Date   Time  \n",
       "0         20988       8080  DNSRES  07-20-19  11:30  \n",
       "1         41058      53281  DNSRES  07-20-19  00:01  \n",
       "2         40921         80  DNSRES  07-20-19  03:54  \n",
       "3          5124      33661  DNSRES  07-20-19  07:34  \n",
       "4           137        137  DNSRES  07-20-19  08:46  \n",
       "...         ...        ...     ...       ...    ...  \n",
       "9426      42751       8291  DNSRES  08-18-19  06:49  \n",
       "9427      57266       3389  DNSRES  08-18-19  03:01  \n",
       "9428      63320        443  DNSRES  08-18-19  00:32  \n",
       "9429      46048      17542  DNSRES  08-18-19  10:23  \n",
       "9430      59002         53  DNSREQ  08-18-19  23:45  \n",
       "\n",
       "[9431 rows x 9 columns]"
      ]
     },
     "execution_count": 183,
     "metadata": {},
     "output_type": "execute_result"
    }
   ],
   "source": [
    "df\n"
   ]
  },
  {
   "cell_type": "code",
   "execution_count": 184,
   "metadata": {},
   "outputs": [],
   "source": [
    "#function to differentiate the traffic type\n",
    "def traffic(dataframe,column,new_column_name):\n",
    "    n=dataframe[column].count()\n",
    "    j=[]\n",
    "    gen=0\n",
    "    mal=0\n",
    "    for i in range(0,n):\n",
    "        if dataframe[column][i] == \"53\":\n",
    "            j.append('Genuine traffic')\n",
    "            gen=gen+1\n",
    "        elif dataframe[column][i] ==\"443\":\n",
    "            j.append('Genuine traffic')\n",
    "            gen=gen+1\n",
    "        elif dataframe[column][i]==\"80\":\n",
    "            j.append('Genuine traffic')\n",
    "            gen=gen+1\n",
    "        else:\n",
    "            j.append('Malicious traffic')\n",
    "            mal=mal+1\n",
    "        \n",
    "    dataframe.insert(9,new_column_name,j)\n",
    "    print(\"Genuine traffic- \",gen)\n",
    "    print(\"Genuine percentage- \",((gen/(gen+mal))*100))\n",
    "    print(\"Malicious traffic- \",mal)\n",
    "    print(\"Malicious percentage- \",((mal/(gen+mal))*100))"
   ]
  },
  {
   "cell_type": "code",
   "execution_count": 185,
   "metadata": {},
   "outputs": [
    {
     "name": "stdout",
     "output_type": "stream",
     "text": [
      "Genuine traffic-  6070\n",
      "Genuine percentage-  64.36220973385643\n",
      "Malicious traffic-  3361\n",
      "Malicious percentage-  35.63779026614357\n"
     ]
    }
   ],
   "source": [
    "traffic(df,\"DP Address\",\"Traffic Type\")"
   ]
  },
  {
   "cell_type": "code",
   "execution_count": 186,
   "metadata": {},
   "outputs": [],
   "source": [
    "n=df[\"Traffic Type\"].count()\n",
    "j=[]\n",
    "for i in range(0,n):\n",
    "    if df[\"Traffic Type\"][i] == \"Genuine traffic\":\n",
    "        j.append('Safe')\n",
    "    else:\n",
    "        j.append('To Be Discarded')\n",
    "        \n",
    "df.insert(10,\"Status\",j)"
   ]
  },
  {
   "cell_type": "code",
   "execution_count": 187,
   "metadata": {},
   "outputs": [
    {
     "data": {
      "text/html": [
       "<div>\n",
       "<style scoped>\n",
       "    .dataframe tbody tr th:only-of-type {\n",
       "        vertical-align: middle;\n",
       "    }\n",
       "\n",
       "    .dataframe tbody tr th {\n",
       "        vertical-align: top;\n",
       "    }\n",
       "\n",
       "    .dataframe thead th {\n",
       "        text-align: right;\n",
       "    }\n",
       "</style>\n",
       "<table border=\"1\" class=\"dataframe\">\n",
       "  <thead>\n",
       "    <tr style=\"text-align: right;\">\n",
       "      <th></th>\n",
       "      <th>Traffic Detail(ID)</th>\n",
       "      <th>Time Stamps</th>\n",
       "      <th>Source ip</th>\n",
       "      <th>D Address</th>\n",
       "      <th>SP Address</th>\n",
       "      <th>DP Address</th>\n",
       "      <th>FLAGS</th>\n",
       "      <th>Date</th>\n",
       "      <th>Time</th>\n",
       "      <th>Traffic Type</th>\n",
       "      <th>Status</th>\n",
       "    </tr>\n",
       "  </thead>\n",
       "  <tbody>\n",
       "    <tr>\n",
       "      <th>0</th>\n",
       "      <td>3124</td>\n",
       "      <td>20-07-2019 11:30</td>\n",
       "      <td>139.199.164.202</td>\n",
       "      <td>203.190.128.152</td>\n",
       "      <td>20988</td>\n",
       "      <td>8080</td>\n",
       "      <td>DNSRES</td>\n",
       "      <td>07-20-19</td>\n",
       "      <td>11:30</td>\n",
       "      <td>Malicious traffic</td>\n",
       "      <td>To Be Discarded</td>\n",
       "    </tr>\n",
       "    <tr>\n",
       "      <th>1</th>\n",
       "      <td>9319</td>\n",
       "      <td>20-07-2019 00:01</td>\n",
       "      <td>95.213.177.122</td>\n",
       "      <td>203.190.128.147</td>\n",
       "      <td>41058</td>\n",
       "      <td>53281</td>\n",
       "      <td>DNSRES</td>\n",
       "      <td>07-20-19</td>\n",
       "      <td>00:01</td>\n",
       "      <td>Malicious traffic</td>\n",
       "      <td>To Be Discarded</td>\n",
       "    </tr>\n",
       "    <tr>\n",
       "      <th>2</th>\n",
       "      <td>2872</td>\n",
       "      <td>20-07-2019 03:54</td>\n",
       "      <td>178.212.89.128</td>\n",
       "      <td>203.190.128.157</td>\n",
       "      <td>40921</td>\n",
       "      <td>80</td>\n",
       "      <td>DNSRES</td>\n",
       "      <td>07-20-19</td>\n",
       "      <td>03:54</td>\n",
       "      <td>Genuine traffic</td>\n",
       "      <td>Safe</td>\n",
       "    </tr>\n",
       "    <tr>\n",
       "      <th>3</th>\n",
       "      <td>4804</td>\n",
       "      <td>20-07-2019 07:34</td>\n",
       "      <td>77.247.109.93</td>\n",
       "      <td>203.190.128.129</td>\n",
       "      <td>5124</td>\n",
       "      <td>33661</td>\n",
       "      <td>DNSRES</td>\n",
       "      <td>07-20-19</td>\n",
       "      <td>07:34</td>\n",
       "      <td>Malicious traffic</td>\n",
       "      <td>To Be Discarded</td>\n",
       "    </tr>\n",
       "    <tr>\n",
       "      <th>4</th>\n",
       "      <td>9904</td>\n",
       "      <td>20-07-2019 08:46</td>\n",
       "      <td>188.165.198.127</td>\n",
       "      <td>203.190.128.143</td>\n",
       "      <td>137</td>\n",
       "      <td>137</td>\n",
       "      <td>DNSRES</td>\n",
       "      <td>07-20-19</td>\n",
       "      <td>08:46</td>\n",
       "      <td>Malicious traffic</td>\n",
       "      <td>To Be Discarded</td>\n",
       "    </tr>\n",
       "    <tr>\n",
       "      <th>...</th>\n",
       "      <td>...</td>\n",
       "      <td>...</td>\n",
       "      <td>...</td>\n",
       "      <td>...</td>\n",
       "      <td>...</td>\n",
       "      <td>...</td>\n",
       "      <td>...</td>\n",
       "      <td>...</td>\n",
       "      <td>...</td>\n",
       "      <td>...</td>\n",
       "      <td>...</td>\n",
       "    </tr>\n",
       "    <tr>\n",
       "      <th>9426</th>\n",
       "      <td>4639</td>\n",
       "      <td>18-08-2019 06:49</td>\n",
       "      <td>203.190.113.200</td>\n",
       "      <td>203.190.128.147</td>\n",
       "      <td>42751</td>\n",
       "      <td>8291</td>\n",
       "      <td>DNSRES</td>\n",
       "      <td>08-18-19</td>\n",
       "      <td>06:49</td>\n",
       "      <td>Malicious traffic</td>\n",
       "      <td>To Be Discarded</td>\n",
       "    </tr>\n",
       "    <tr>\n",
       "      <th>9427</th>\n",
       "      <td>8013</td>\n",
       "      <td>18-08-2019 03:01</td>\n",
       "      <td>103.114.105.253</td>\n",
       "      <td>203.190.128.158</td>\n",
       "      <td>57266</td>\n",
       "      <td>3389</td>\n",
       "      <td>DNSRES</td>\n",
       "      <td>08-18-19</td>\n",
       "      <td>03:01</td>\n",
       "      <td>Malicious traffic</td>\n",
       "      <td>To Be Discarded</td>\n",
       "    </tr>\n",
       "    <tr>\n",
       "      <th>9428</th>\n",
       "      <td>4642</td>\n",
       "      <td>18-08-2019 00:32</td>\n",
       "      <td>192.168.0.41</td>\n",
       "      <td>185.86.139.19</td>\n",
       "      <td>63320</td>\n",
       "      <td>443</td>\n",
       "      <td>DNSRES</td>\n",
       "      <td>08-18-19</td>\n",
       "      <td>00:32</td>\n",
       "      <td>Genuine traffic</td>\n",
       "      <td>Safe</td>\n",
       "    </tr>\n",
       "    <tr>\n",
       "      <th>9429</th>\n",
       "      <td>8450</td>\n",
       "      <td>18-08-2019 10:23</td>\n",
       "      <td>185.254.122.31</td>\n",
       "      <td>203.190.128.149</td>\n",
       "      <td>46048</td>\n",
       "      <td>17542</td>\n",
       "      <td>DNSRES</td>\n",
       "      <td>08-18-19</td>\n",
       "      <td>10:23</td>\n",
       "      <td>Malicious traffic</td>\n",
       "      <td>To Be Discarded</td>\n",
       "    </tr>\n",
       "    <tr>\n",
       "      <th>9430</th>\n",
       "      <td>797</td>\n",
       "      <td>18-08-2019 23:45</td>\n",
       "      <td>192.168.0.98</td>\n",
       "      <td>203.190.128.141</td>\n",
       "      <td>59002</td>\n",
       "      <td>53</td>\n",
       "      <td>DNSREQ</td>\n",
       "      <td>08-18-19</td>\n",
       "      <td>23:45</td>\n",
       "      <td>Genuine traffic</td>\n",
       "      <td>Safe</td>\n",
       "    </tr>\n",
       "  </tbody>\n",
       "</table>\n",
       "<p>9431 rows × 11 columns</p>\n",
       "</div>"
      ],
      "text/plain": [
       "     Traffic Detail(ID)       Time Stamps        Source ip        D Address  \\\n",
       "0                  3124  20-07-2019 11:30  139.199.164.202  203.190.128.152   \n",
       "1                  9319  20-07-2019 00:01   95.213.177.122  203.190.128.147   \n",
       "2                  2872  20-07-2019 03:54   178.212.89.128  203.190.128.157   \n",
       "3                  4804  20-07-2019 07:34    77.247.109.93  203.190.128.129   \n",
       "4                  9904  20-07-2019 08:46  188.165.198.127  203.190.128.143   \n",
       "...                 ...               ...              ...              ...   \n",
       "9426               4639  18-08-2019 06:49  203.190.113.200  203.190.128.147   \n",
       "9427               8013  18-08-2019 03:01  103.114.105.253  203.190.128.158   \n",
       "9428               4642  18-08-2019 00:32     192.168.0.41    185.86.139.19   \n",
       "9429               8450  18-08-2019 10:23   185.254.122.31  203.190.128.149   \n",
       "9430                797  18-08-2019 23:45     192.168.0.98  203.190.128.141   \n",
       "\n",
       "     SP Address DP Address   FLAGS      Date   Time       Traffic Type  \\\n",
       "0         20988       8080  DNSRES  07-20-19  11:30  Malicious traffic   \n",
       "1         41058      53281  DNSRES  07-20-19  00:01  Malicious traffic   \n",
       "2         40921         80  DNSRES  07-20-19  03:54    Genuine traffic   \n",
       "3          5124      33661  DNSRES  07-20-19  07:34  Malicious traffic   \n",
       "4           137        137  DNSRES  07-20-19  08:46  Malicious traffic   \n",
       "...         ...        ...     ...       ...    ...                ...   \n",
       "9426      42751       8291  DNSRES  08-18-19  06:49  Malicious traffic   \n",
       "9427      57266       3389  DNSRES  08-18-19  03:01  Malicious traffic   \n",
       "9428      63320        443  DNSRES  08-18-19  00:32    Genuine traffic   \n",
       "9429      46048      17542  DNSRES  08-18-19  10:23  Malicious traffic   \n",
       "9430      59002         53  DNSREQ  08-18-19  23:45    Genuine traffic   \n",
       "\n",
       "               Status  \n",
       "0     To Be Discarded  \n",
       "1     To Be Discarded  \n",
       "2                Safe  \n",
       "3     To Be Discarded  \n",
       "4     To Be Discarded  \n",
       "...               ...  \n",
       "9426  To Be Discarded  \n",
       "9427  To Be Discarded  \n",
       "9428             Safe  \n",
       "9429  To Be Discarded  \n",
       "9430             Safe  \n",
       "\n",
       "[9431 rows x 11 columns]"
      ]
     },
     "execution_count": 187,
     "metadata": {},
     "output_type": "execute_result"
    }
   ],
   "source": [
    "df"
   ]
  },
  {
   "cell_type": "code",
   "execution_count": 188,
   "metadata": {},
   "outputs": [],
   "source": [
    "def counting(dataframe,column):\n",
    "    n=dataframe[column].count()\n",
    "    j=[]\n",
    "    for i in range(0,n):\n",
    "        if len(dataframe[column][i]) == 4:\n",
    "            j.append(len(dataframe[column][i])//4)\n",
    "        else:\n",
    "            j.append(len(dataframe[column][i]))\n",
    "        \n",
    "    dataframe.insert(1,\"VALUE COUNT\",j)"
   ]
  },
  {
   "cell_type": "code",
   "execution_count": 220,
   "metadata": {},
   "outputs": [
    {
     "data": {
      "text/plain": [
       "<matplotlib.axes._subplots.AxesSubplot at 0x214e64c4fc8>"
      ]
     },
     "execution_count": 220,
     "metadata": {},
     "output_type": "execute_result"
    },
    {
     "data": {
      "image/png": "[encoded data removed]",
      "text/plain": [
       "<Figure size 432x288 with 1 Axes>"
      ]
     },
     "metadata": {
      "needs_background": "light"
     },
     "output_type": "display_data"
    }
   ],
   "source": [
    "plt.xlabel(\"DP Address\")\n",
    "plt.ylabel(\"DP Address count\")\n",
    "df['DP Address'].value_counts(sort=True).nlargest(30).plot.bar()"
   ]
  },
  {
   "cell_type": "code",
   "execution_count": 190,
   "metadata": {},
   "outputs": [
    {
     "data": {
      "text/plain": [
       "<matplotlib.collections.PathCollection at 0x214e62adac8>"
      ]
     },
     "execution_count": 190,
     "metadata": {},
     "output_type": "execute_result"
    },
    {
     "data": {
      "image/png": "[encoded data removed]",
      "text/plain": [
       "<Figure size 432x288 with 1 Axes>"
      ]
     },
     "metadata": {
      "needs_background": "light"
     },
     "output_type": "display_data"
    }
   ],
   "source": [
    "plt.xlabel(\"Source ip count\")\n",
    "plt.ylabel(\"DP Address count\")\n",
    "plt.plot(df['Source ip'].value_counts(sort=True).nlargest(1000),df['DP Address'].value_counts(sort=True).nlargest(1000))\n",
    "plt.scatter(df['Source ip'].value_counts(sort=True).nlargest(1000),df['DP Address'].value_counts(sort=True).nlargest(1000))"
   ]
  },
  {
   "cell_type": "code",
   "execution_count": 191,
   "metadata": {},
   "outputs": [
    {
     "data": {
      "text/plain": [
       "9431"
      ]
     },
     "execution_count": 191,
     "metadata": {},
     "output_type": "execute_result"
    },
    {
     "data": {
      "image/png": "[encoded data removed]",
      "text/plain": [
       "<Figure size 432x288 with 1 Axes>"
      ]
     },
     "metadata": {
      "needs_background": "light"
     },
     "output_type": "display_data"
    }
   ],
   "source": [
    "plt.xlabel(\"DP Address\")\n",
    "plt.ylabel(\"DP Address count\")\n",
    "df['DP Address'].value_counts(sort=True).plot.line()\n",
    "df['DP Address'].value_counts(sort=True).sum()"
   ]
  },
  {
   "cell_type": "code",
   "execution_count": 192,
   "metadata": {},
   "outputs": [],
   "source": [
    "#pivot table\n",
    "count = df.pivot_table(index=\"DP Address\", aggfunc=pd.Series.unique)\n",
    "count.drop(['D Address','Date','SP Address','Source ip','Time','Time Stamps','FLAGS','Status','Traffic Type'],inplace=True,axis=1)\n"
   ]
  },
  {
   "cell_type": "code",
   "execution_count": 193,
   "metadata": {},
   "outputs": [],
   "source": [
    "counting(count,'Traffic Detail(ID)')"
   ]
  },
  {
   "cell_type": "code",
   "execution_count": 194,
   "metadata": {},
   "outputs": [],
   "source": [
    "count=count.sort_values(by='VALUE COUNT',ascending=False)"
   ]
  },
  {
   "cell_type": "code",
   "execution_count": 195,
   "metadata": {},
   "outputs": [],
   "source": [
    "count.drop(['Traffic Detail(ID)'],inplace=True,axis=1)"
   ]
  },
  {
   "cell_type": "code",
   "execution_count": 196,
   "metadata": {},
   "outputs": [],
   "source": [
    "count.reset_index(inplace=True)"
   ]
  },
  {
   "cell_type": "code",
   "execution_count": 197,
   "metadata": {},
   "outputs": [
    {
     "name": "stdout",
     "output_type": "stream",
     "text": [
      "3591\n"
     ]
    }
   ],
   "source": [
    "#all Malacious data in a single column\n",
    "others=count['VALUE COUNT'][3:1515].sum()\n",
    "print(others)"
   ]
  },
  {
   "cell_type": "code",
   "execution_count": 198,
   "metadata": {},
   "outputs": [],
   "source": [
    "new_val={\"DP Address\":\"Others\",\"VALUE COUNT\":count['VALUE COUNT'][3:1515].sum()}\n",
    "count=count.append(new_val,ignore_index=True)\n",
    "count.drop(count.index[3:1515],axis=0,inplace=True)"
   ]
  },
  {
   "cell_type": "code",
   "execution_count": 199,
   "metadata": {},
   "outputs": [],
   "source": [
    "count.reset_index(inplace=True)\n",
    "count.drop(['index'],inplace=True,axis=1)"
   ]
  },
  {
   "cell_type": "code",
   "execution_count": 200,
   "metadata": {},
   "outputs": [
    {
     "data": {
      "text/html": [
       "<div>\n",
       "<style scoped>\n",
       "    .dataframe tbody tr th:only-of-type {\n",
       "        vertical-align: middle;\n",
       "    }\n",
       "\n",
       "    .dataframe tbody tr th {\n",
       "        vertical-align: top;\n",
       "    }\n",
       "\n",
       "    .dataframe thead th {\n",
       "        text-align: right;\n",
       "    }\n",
       "</style>\n",
       "<table border=\"1\" class=\"dataframe\">\n",
       "  <thead>\n",
       "    <tr style=\"text-align: right;\">\n",
       "      <th></th>\n",
       "      <th>DP Address</th>\n",
       "      <th>VALUE COUNT</th>\n",
       "    </tr>\n",
       "  </thead>\n",
       "  <tbody>\n",
       "    <tr>\n",
       "      <th>0</th>\n",
       "      <td>53</td>\n",
       "      <td>3380</td>\n",
       "    </tr>\n",
       "    <tr>\n",
       "      <th>1</th>\n",
       "      <td>443</td>\n",
       "      <td>2369</td>\n",
       "    </tr>\n",
       "    <tr>\n",
       "      <th>2</th>\n",
       "      <td>80</td>\n",
       "      <td>321</td>\n",
       "    </tr>\n",
       "    <tr>\n",
       "      <th>3</th>\n",
       "      <td>Others</td>\n",
       "      <td>3591</td>\n",
       "    </tr>\n",
       "  </tbody>\n",
       "</table>\n",
       "</div>"
      ],
      "text/plain": [
       "  DP Address  VALUE COUNT\n",
       "0         53         3380\n",
       "1        443         2369\n",
       "2         80          321\n",
       "3     Others         3591"
      ]
     },
     "execution_count": 200,
     "metadata": {},
     "output_type": "execute_result"
    }
   ],
   "source": [
    "count"
   ]
  },
  {
   "cell_type": "code",
   "execution_count": 201,
   "metadata": {},
   "outputs": [
    {
     "data": {
      "text/plain": [
       "<matplotlib.collections.PathCollection at 0x214e638c808>"
      ]
     },
     "execution_count": 201,
     "metadata": {},
     "output_type": "execute_result"
    },
    {
     "data": {
      "image/png": "[encoded data removed]",
      "text/plain": [
       "<Figure size 432x288 with 1 Axes>"
      ]
     },
     "metadata": {
      "needs_background": "light"
     },
     "output_type": "display_data"
    }
   ],
   "source": [
    "plt.xlabel(\"DP Address\")\n",
    "plt.ylabel(\"DP Address count\")\n",
    "plt.scatter(count['DP Address'],count['VALUE COUNT'])"
   ]
  },
  {
   "cell_type": "code",
   "execution_count": 202,
   "metadata": {},
   "outputs": [
    {
     "data": {
      "text/plain": [
       "(0        53\n",
       " 1       443\n",
       " 2        80\n",
       " 3    Others\n",
       " Name: DP Address, dtype: object,\n",
       " <matplotlib.axes._subplots.AxesSubplot at 0x214e63b87c8>)"
      ]
     },
     "execution_count": 202,
     "metadata": {},
     "output_type": "execute_result"
    },
    {
     "data": {
      "image/png": "[encoded data removed]",
      "text/plain": [
       "<Figure size 432x288 with 1 Axes>"
      ]
     },
     "metadata": {
      "needs_background": "light"
     },
     "output_type": "display_data"
    }
   ],
   "source": [
    "plt.xlabel(\"DP Address\")\n",
    "plt.ylabel(\"VALUE COUNT\")\n",
    "count['DP Address'],count['VALUE COUNT'].plot(kind=\"bar\")"
   ]
  },
  {
   "cell_type": "code",
   "execution_count": 203,
   "metadata": {},
   "outputs": [
    {
     "data": {
      "text/plain": [
       "<matplotlib.axes._subplots.AxesSubplot at 0x214e642ba08>"
      ]
     },
     "execution_count": 203,
     "metadata": {},
     "output_type": "execute_result"
    },
    {
     "data": {
      "image/png": "[encoded data removed]",
      "text/plain": [
       "<Figure size 432x288 with 1 Axes>"
      ]
     },
     "metadata": {
      "needs_background": "light"
     },
     "output_type": "display_data"
    }
   ],
   "source": [
    "count.groupby(['DP Address','VALUE COUNT']).size().unstack().plot(kind='barh',stacked=True)"
   ]
  },
  {
   "cell_type": "code",
   "execution_count": 204,
   "metadata": {},
   "outputs": [
    {
     "data": {
      "text/plain": [
       "[<matplotlib.lines.Line2D at 0x214e64c45c8>]"
      ]
     },
     "execution_count": 204,
     "metadata": {},
     "output_type": "execute_result"
    },
    {
     "data": {
      "image/png": "[encoded data removed]",
      "text/plain": [
       "<Figure size 432x288 with 1 Axes>"
      ]
     },
     "metadata": {
      "needs_background": "light"
     },
     "output_type": "display_data"
    }
   ],
   "source": [
    "plt.xlabel(\"DP Address\")\n",
    "plt.ylabel(\"VALUE COUNT\")\n",
    "plt.plot(count['DP Address'],count['VALUE COUNT'])"
   ]
  },
  {
   "cell_type": "code",
   "execution_count": null,
   "metadata": {},
   "outputs": [],
   "source": []
  },
  {
   "cell_type": "markdown",
   "metadata": {},
   "source": [
    "ML PART\n"
   ]
  },
  {
   "cell_type": "code",
   "execution_count": 205,
   "metadata": {},
   "outputs": [
    {
     "name": "stdout",
     "output_type": "stream",
     "text": [
      "[ 269 1333  410 ...  652  532  683]\n"
     ]
    }
   ],
   "source": [
    "#Naive Bayes\n",
    "from sklearn import preprocessing\n",
    "testcase_size=[0.10,0.20,0.30,0.40,0.50,0.60,0.70,0.80]\n",
    "nb_test=[]\n",
    "le=preprocessing.LabelEncoder()\n",
    "source_encoder=le.fit_transform(df['Source ip'])\n",
    "print(source_encoder)"
   ]
  },
  {
   "cell_type": "code",
   "execution_count": 206,
   "metadata": {},
   "outputs": [],
   "source": [
    "label=le.fit_transform(df['Traffic Type'])"
   ]
  },
  {
   "cell_type": "code",
   "execution_count": 207,
   "metadata": {},
   "outputs": [],
   "source": [
    "from sklearn.model_selection import train_test_split\n",
    "X_train,X_test,y_train,y_test=train_test_split(source_encoder,label,test_size=0.80)\n",
    "X=X_train.reshape(-1,1)\n"
   ]
  },
  {
   "cell_type": "code",
   "execution_count": 208,
   "metadata": {},
   "outputs": [
    {
     "name": "stdout",
     "output_type": "stream",
     "text": [
      "[1 0 1 ... 0 0 0]\n"
     ]
    }
   ],
   "source": [
    "from sklearn.naive_bayes import GaussianNB\n",
    "model=GaussianNB()\n",
    "model.fit(X,y_train)\n",
    "y_pred=model.predict(X_test.reshape(-1,1))\n",
    "print(y_pred)"
   ]
  },
  {
   "cell_type": "code",
   "execution_count": 209,
   "metadata": {},
   "outputs": [
    {
     "name": "stdout",
     "output_type": "stream",
     "text": [
      "Accuracy: 95.97084161696488%\n"
     ]
    }
   ],
   "source": [
    "from sklearn import metrics\n",
    "accuracy=metrics.accuracy_score(y_test,y_pred)\n",
    "print('Accuracy: {0}%'.format(accuracy*100))\n",
    "#nb_test.append((accuracy*100))\n",
    "nb_results=[95.23305084745762,\n",
    " 95.4954954954955,\n",
    " 95.8303886925795,\n",
    " 95.54730983302412,\n",
    " 95.52586938083121,\n",
    " 95.52924544972609,\n",
    " 95.7437140260527,\n",
    " 95.89131875414182]"
   ]
  },
  {
   "cell_type": "code",
   "execution_count": 210,
   "metadata": {},
   "outputs": [],
   "source": [
    "#KNN prediction\n",
    "from sklearn import preprocessing\n",
    "knns=[]\n",
    "knn_no=[5,7,11,15,17,20,23,25]\n",
    "knn_test=[]\n",
    "le=preprocessing.LabelEncoder()\n",
    "source_encoder=le.fit_transform(df['Source ip'])\n",
    "label=le.fit_transform(df['Traffic Type'])"
   ]
  },
  {
   "cell_type": "code",
   "execution_count": 211,
   "metadata": {},
   "outputs": [],
   "source": [
    "from sklearn.model_selection import train_test_split\n",
    "KX_train,KX_test,KY_train,KY_test=train_test_split(source_encoder,label,test_size=0.80)\n"
   ]
  },
  {
   "cell_type": "code",
   "execution_count": 212,
   "metadata": {},
   "outputs": [],
   "source": [
    "from sklearn.preprocessing import StandardScaler\n",
    "scaler = StandardScaler()\n",
    "scaler.fit(KX_train.reshape(-1,1))\n",
    "\n",
    "KX_train = scaler.transform(KX_train.reshape(-1,1))\n",
    "KX_test = scaler.transform(KX_test.reshape(-1,1))"
   ]
  },
  {
   "cell_type": "code",
   "execution_count": 213,
   "metadata": {},
   "outputs": [
    {
     "data": {
      "text/plain": [
       "KNeighborsClassifier(algorithm='auto', leaf_size=30, metric='minkowski',\n",
       "                     metric_params=None, n_jobs=None, n_neighbors=7, p=2,\n",
       "                     weights='uniform')"
      ]
     },
     "execution_count": 213,
     "metadata": {},
     "output_type": "execute_result"
    }
   ],
   "source": [
    "from sklearn.neighbors import KNeighborsClassifier\n",
    "classifier = KNeighborsClassifier(n_neighbors=7)\n",
    "classifier.fit(KX_train, KY_train)"
   ]
  },
  {
   "cell_type": "code",
   "execution_count": 214,
   "metadata": {},
   "outputs": [
    {
     "name": "stdout",
     "output_type": "stream",
     "text": [
      "[1 0 1 ... 0 1 0]\n"
     ]
    }
   ],
   "source": [
    "KY_pred = classifier.predict(KX_test.reshape(-1,1))\n",
    "print(KY_pred)"
   ]
  },
  {
   "cell_type": "code",
   "execution_count": 215,
   "metadata": {},
   "outputs": [
    {
     "name": "stdout",
     "output_type": "stream",
     "text": [
      "[[4781   75]\n",
      " [ 169 2520]]\n",
      "              precision    recall  f1-score   support\n",
      "\n",
      "           0       0.97      0.98      0.98      4856\n",
      "           1       0.97      0.94      0.95      2689\n",
      "\n",
      "    accuracy                           0.97      7545\n",
      "   macro avg       0.97      0.96      0.96      7545\n",
      "weighted avg       0.97      0.97      0.97      7545\n",
      "\n"
     ]
    }
   ],
   "source": [
    "from sklearn.metrics import classification_report, confusion_matrix\n",
    "print(confusion_matrix(KY_test, KY_pred))\n",
    "print(classification_report(KY_test, KY_pred))"
   ]
  },
  {
   "cell_type": "code",
   "execution_count": 216,
   "metadata": {},
   "outputs": [
    {
     "name": "stdout",
     "output_type": "stream",
     "text": [
      "Accuracy: 96.7660702451955%\n"
     ]
    }
   ],
   "source": [
    "from sklearn import metrics\n",
    "accuracy=metrics.accuracy_score(KY_test,KY_pred)\n",
    "print('Accuracy: {0}%'.format(accuracy*100))\n",
    "#knns.append((accuracy*100))\n",
    "#knn_test.append((accuracy*100))\n",
    "knn_results=[97.45762711864407,\n",
    " 97.08532061473238,\n",
    " 96.60777385159011,\n",
    " 97.03153988868274,\n",
    " 96.94656488549617,\n",
    " 96.81922601166283,\n",
    " 96.75855801272341,\n",
    " 96.73956262425448]"
   ]
  },
  {
   "cell_type": "code",
   "execution_count": 223,
   "metadata": {},
   "outputs": [
    {
     "data": {
      "text/plain": [
       "<matplotlib.legend.Legend at 0x214e5cb6c88>"
      ]
     },
     "execution_count": 223,
     "metadata": {},
     "output_type": "execute_result"
    },
    {
     "data": {
      "image/png": "[encoded data removed]",
      "text/plain": [
       "<Figure size 1080x504 with 1 Axes>"
      ]
     },
     "metadata": {
      "needs_background": "light"
     },
     "output_type": "display_data"
    }
   ],
   "source": [
    "plt.rcParams.update({'font.size': 10})\n",
    "plt.figure(figsize=(15,7))\n",
    "plt.xticks(rotation=60)\n",
    "plt.locator_params(axis=\"y\", nbins=10)\n",
    "plt.locator_params(axis=\"x\", nbins=8)\n",
    "plt.xlabel(\"TEST CASE SIZE\")\n",
    "plt.ylabel(\"ACCURACY(%)\")\n",
    "plt.title(\"Comparison Plot\")\n",
    "plt.plot(testcase_size,nb_results,color='Cyan')\n",
    "plt.plot(testcase_size,knn_results,color='Green')\n",
    "plt.legend(['NB', 'KNN'],frameon=True,framealpha=0.5,ncol=1,shadow=False,borderpad=0.5,title='For Plot')"
   ]
  },
  {
   "cell_type": "code",
   "execution_count": null,
   "metadata": {},
   "outputs": [],
   "source": []
  }
 ],
 "metadata": {
  "kernelspec": {
   "display_name": "Python 3",
   "language": "python",
   "name": "python3"
  },
  "language_info": {
   "codemirror_mode": {
    "name": "ipython",
    "version": 3
   },
   "file_extension": ".py",
   "mimetype": "text/x-python",
   "name": "python",
   "nbconvert_exporter": "python",
   "pygments_lexer": "ipython3",
   "version": "3.7.6"
  }
 },
 "nbformat": 4,
 "nbformat_minor": 4
}
